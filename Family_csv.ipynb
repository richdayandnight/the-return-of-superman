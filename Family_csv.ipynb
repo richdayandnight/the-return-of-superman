{
 "cells": [
  {
   "cell_type": "code",
   "execution_count": 414,
   "metadata": {},
   "outputs": [],
   "source": [
    "import pandas as pd\n",
    "import numpy as np"
   ]
  },
  {
   "cell_type": "code",
   "execution_count": 415,
   "metadata": {},
   "outputs": [],
   "source": [
    "formerCast_df = pd.read_csv('formerCast.csv')\n",
    "currentCast_df = pd.read_csv('currentCast.csv')\n",
    "specialCast_df = pd.read_csv('specialCast.csv')"
   ]
  },
  {
   "cell_type": "code",
   "execution_count": 416,
   "metadata": {},
   "outputs": [],
   "source": [
    "fc_episode = pd.read_csv('fc_episodes.csv')\n",
    "sc_episode = pd.read_csv('sc_episodes.csv')\n",
    "cc_episode = pd.read_csv('cc_episodes.csv')"
   ]
  },
  {
   "cell_type": "code",
   "execution_count": 417,
   "metadata": {},
   "outputs": [],
   "source": [
    "fc_episode = fc_episode[fc_episode['season'] > 0]\n",
    "sc_episode = sc_episode[sc_episode['season'] > 0]\n",
    "cc_episode = cc_episode[cc_episode['season'] > 0]"
   ]
  },
  {
   "cell_type": "code",
   "execution_count": 418,
   "metadata": {},
   "outputs": [],
   "source": [
    "fc_episode = fc_episode.reset_index(drop=True)\n",
    "sc_episode = sc_episode.reset_index(drop=True)\n",
    "cc_episode = cc_episode.reset_index(drop=True)"
   ]
  },
  {
   "cell_type": "code",
   "execution_count": 419,
   "metadata": {},
   "outputs": [],
   "source": [
    "fc_episode['startEp'] = fc_episode['startEp'].astype('int')\n",
    "fc_episode['endEp'] = fc_episode['endEp'].astype('int')\n",
    "fc_episode = fc_episode.set_index('father')\n",
    "\n",
    "sc_episode['startEp'] = sc_episode['startEp'].astype('int')\n",
    "sc_episode['endEp'] = sc_episode['endEp'].astype('int')\n",
    "sc_episode = sc_episode.set_index('father')\n",
    "\n",
    "cc_episode['startEp'] = cc_episode['startEp'].astype('int')\n",
    "cc_episode['endEp'] = cc_episode['endEp'].astype('int')\n",
    "cc_episode = cc_episode.set_index('father')"
   ]
  },
  {
   "cell_type": "code",
   "execution_count": 420,
   "metadata": {},
   "outputs": [],
   "source": [
    "def encoding_episodes(row):\n",
    "    row.loc[row['startEp']-1 + (4): row['endEp']+ (4)] = str(row['dad'])\n",
    "    return row\n",
    "\n",
    "def get_table(episode_df):\n",
    "    #start_df = pd.get_dummies(episode_df['startEp'])\n",
    "    start_df = episode_df.copy()\n",
    "    i = 1\n",
    "    while i <= 304:\n",
    "        start_df[i] = None\n",
    "        i = i + 1\n",
    "    #start_df['totalNoOfEp'] = fc_episode['totalNoOfEp']\n",
    "    #\n",
    "    start_df['dad'] = episode_df.index\n",
    "    \n",
    "    \n",
    "    start_df = start_df.apply(encoding_episodes, axis=1)\n",
    "    #start_df = pd.pivot_table(start_df, values=intList, columns=['father'], aggfunc='max')\n",
    "    start_df = pd.pivot_table(start_df, values=intList, columns=['father'], aggfunc = lambda x: x.any() if x.notnull().values.any() else None)\n",
    "    return start_df"
   ]
  },
  {
   "cell_type": "code",
   "execution_count": 421,
   "metadata": {},
   "outputs": [],
   "source": [
    "fc_encoded_df = get_table(fc_episode)\n",
    "sc_encoded_df = get_table(sc_episode)\n",
    "cc_encoded_df = get_table(cc_episode)"
   ]
  },
  {
   "cell_type": "code",
   "execution_count": 281,
   "metadata": {},
   "outputs": [],
   "source": [
    "'''\n",
    "sampleDF = pd.DataFrame({'dad': ['Dad A', 'Dad B', 'Dad C'],\n",
    "                        '1': [1, 0, 0],\n",
    "                        '2': [1, 1, 0],\n",
    "                        '3': [0, 0, 1]})\n",
    "'''"
   ]
  },
  {
   "cell_type": "code",
   "execution_count": 282,
   "metadata": {},
   "outputs": [
    {
     "data": {
      "text/html": [
       "<div>\n",
       "<style scoped>\n",
       "    .dataframe tbody tr th:only-of-type {\n",
       "        vertical-align: middle;\n",
       "    }\n",
       "\n",
       "    .dataframe tbody tr th {\n",
       "        vertical-align: top;\n",
       "    }\n",
       "\n",
       "    .dataframe thead th {\n",
       "        text-align: right;\n",
       "    }\n",
       "</style>\n",
       "<table border=\"1\" class=\"dataframe\">\n",
       "  <thead>\n",
       "    <tr style=\"text-align: right;\">\n",
       "      <th>dad</th>\n",
       "      <th>Dad A</th>\n",
       "      <th>Dad B</th>\n",
       "      <th>Dad C</th>\n",
       "    </tr>\n",
       "  </thead>\n",
       "  <tbody>\n",
       "    <tr>\n",
       "      <th>1</th>\n",
       "      <td>1</td>\n",
       "      <td>0</td>\n",
       "      <td>0</td>\n",
       "    </tr>\n",
       "    <tr>\n",
       "      <th>2</th>\n",
       "      <td>1</td>\n",
       "      <td>1</td>\n",
       "      <td>0</td>\n",
       "    </tr>\n",
       "    <tr>\n",
       "      <th>3</th>\n",
       "      <td>0</td>\n",
       "      <td>0</td>\n",
       "      <td>1</td>\n",
       "    </tr>\n",
       "  </tbody>\n",
       "</table>\n",
       "</div>"
      ],
      "text/plain": [
       "dad  Dad A  \\\n",
       "1        1   \n",
       "2        1   \n",
       "3        0   \n",
       "\n",
       "dad  Dad B  \\\n",
       "1        0   \n",
       "2        1   \n",
       "3        0   \n",
       "\n",
       "dad  Dad C  \n",
       "1        0  \n",
       "2        0  \n",
       "3        1  "
      ]
     },
     "execution_count": 282,
     "metadata": {},
     "output_type": "execute_result"
    }
   ],
   "source": [
    "#pd.pivot_table(sampleDF, values=['1', '2', '3'], columns=['dad'])"
   ]
  },
  {
   "cell_type": "code",
   "execution_count": 325,
   "metadata": {},
   "outputs": [],
   "source": [
    "#x = sampleDF.stack()\n",
    "#x.index = x.index.droplevel()\n",
    "#x\n",
    "#x.drop(['dad'], axis='rows')"
   ]
  },
  {
   "cell_type": "code",
   "execution_count": 272,
   "metadata": {},
   "outputs": [],
   "source": [
    "#fc_encoded_df['episode'] = fc_encoded_df.index\n",
    "#sc_encoded_df['episode'] = sc_encoded_df.index\n",
    "#cc_encoded_df['episode'] = cc_encoded_df.index"
   ]
  },
  {
   "cell_type": "code",
   "execution_count": 446,
   "metadata": {},
   "outputs": [],
   "source": [
    "fc_encoded_df = pd.DataFrame(fc_encoded_df.stack())\n",
    "fc_encoded_df.columns = ['father']\n",
    "fc_encoded_df.index = fc_encoded_df.index.droplevel(1)\n",
    "\n",
    "sc_encoded_df = pd.DataFrame(sc_encoded_df.stack())\n",
    "sc_encoded_df.columns = ['father']\n",
    "sc_encoded_df.index = sc_encoded_df.index.droplevel(1)\n",
    "\n",
    "cc_encoded_df = pd.DataFrame(cc_encoded_df.stack())\n",
    "cc_encoded_df.columns = ['father']\n",
    "cc_encoded_df.index = cc_encoded_df.index.droplevel(1)"
   ]
  },
  {
   "cell_type": "code",
   "execution_count": 451,
   "metadata": {},
   "outputs": [],
   "source": [
    "total_encoded_df = pd.concat([fc_encoded_df,sc_encoded_df,cc_encoded_df])"
   ]
  },
  {
   "cell_type": "code",
   "execution_count": 447,
   "metadata": {},
   "outputs": [],
   "source": [
    "import os\n",
    "directory = 'data'\n",
    "if not os.path.exists(directory):\n",
    "    os.makedirs(directory)"
   ]
  },
  {
   "cell_type": "code",
   "execution_count": 452,
   "metadata": {},
   "outputs": [],
   "source": [
    "dict_df = {'fc_encoded.csv': fc_encoded_df, \n",
    "           'sc_encoded.csv': sc_encoded_df, \n",
    "           'cc_encoded.csv': cc_encoded_df,\n",
    "            'total_encoded.csv': total_encoded_df}\n",
    "\n",
    "for key,val in dict_df.items():\n",
    "    path = os.path.join(directory, key)\n",
    "    val.to_csv(path, encoding='utf-8')"
   ]
  }
 ],
 "metadata": {
  "kernelspec": {
   "display_name": "Python 3",
   "language": "python",
   "name": "python3"
  },
  "language_info": {
   "codemirror_mode": {
    "name": "ipython",
    "version": 3
   },
   "file_extension": ".py",
   "mimetype": "text/x-python",
   "name": "python",
   "nbconvert_exporter": "python",
   "pygments_lexer": "ipython3",
   "version": "3.6.9"
  }
 },
 "nbformat": 4,
 "nbformat_minor": 2
}
